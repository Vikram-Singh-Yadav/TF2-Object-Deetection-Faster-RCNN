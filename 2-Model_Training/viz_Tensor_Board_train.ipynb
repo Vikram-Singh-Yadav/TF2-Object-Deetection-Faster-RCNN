{
 "cells": [
  {
   "cell_type": "markdown",
   "id": "62ad6774",
   "metadata": {},
   "source": [
    "## TensorBoard Events S3 Path"
   ]
  },
  {
   "cell_type": "code",
   "execution_count": null,
   "id": "0965afd2",
   "metadata": {},
   "outputs": [],
   "source": [
    "# tensorboard_s3_output_path = f'{job_artifacts_path}/train'\n",
    "\n",
    "tensorboard_s3_output_path = f's3://eagle-eye-dataset/OD_using_TFOD_API/tensorboard/ssd/tf2-object-detection-2021-06-18-02-41-00-395/tensorboard-output/train'"
   ]
  },
  {
   "cell_type": "markdown",
   "id": "62b05a47",
   "metadata": {},
   "source": [
    "## Run TensorBoard"
   ]
  },
  {
   "cell_type": "code",
   "execution_count": null,
   "id": "b4f7930d",
   "metadata": {},
   "outputs": [],
   "source": [
    "\n",
    "\n",
    "!F_CPP_MIN_LOG_LEVEL=3 AWS_REGION=us-west-2 tensorboard --logdir=$tensorboard_s3_output_path"
   ]
  }
 ],
 "metadata": {
  "kernelspec": {
   "display_name": "conda_tensorflow2_p36",
   "language": "python",
   "name": "conda_tensorflow2_p36"
  },
  "language_info": {
   "codemirror_mode": {
    "name": "ipython",
    "version": 3
   },
   "file_extension": ".py",
   "mimetype": "text/x-python",
   "name": "python",
   "nbconvert_exporter": "python",
   "pygments_lexer": "ipython3",
   "version": "3.6.13"
  }
 },
 "nbformat": 4,
 "nbformat_minor": 5
}
